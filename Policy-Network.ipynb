{
 "cells": [
  {
   "cell_type": "markdown",
   "metadata": {},
   "source": [
    "# Simple Reinforcement Learning in Tensorflow Part 2: Policy Gradient Method\n",
    "This tutorial contains a simple example of how to build a policy-gradient based agent that can solve the CartPole problem. For more information, see this [Medium post](https://medium.com/@awjuliani/super-simple-reinforcement-learning-tutorial-part-2-ded33892c724#.mtwpvfi8b).\n",
    "\n",
    "For more Reinforcement Learning algorithms, including DQN and Model-based learning in Tensorflow, see my Github repo, [DeepRL-Agents](https://github.com/awjuliani/DeepRL-Agents). \n",
    "\n",
    "Parts of this tutorial are based on code by [Andrej Karpathy](https://gist.github.com/karpathy/a4166c7fe253700972fcbc77e4ea32c5) and [korymath](https://gym.openai.com/evaluations/eval_a0aVJrGSyW892vBM04HQA)."
   ]
  },
  {
   "cell_type": "code",
   "execution_count": 1,
   "metadata": {
    "collapsed": false
   },
   "outputs": [],
   "source": [
    "import numpy as np\n",
    "import sys\n",
    "if (sys.hexversion < 0x03000000):\n",
    "    import cPickle as pickle\n",
    "else:\n",
    "    import pickle\n",
    "import tensorflow as tf\n",
    "%matplotlib inline\n",
    "import matplotlib.pyplot as plt\n",
    "import math"
   ]
  },
  {
   "cell_type": "markdown",
   "metadata": {},
   "source": [
    "### Loading the CartPole Environment\n",
    "If you don't already have the OpenAI gym installed, use  `pip install gym` to grab it."
   ]
  },
  {
   "cell_type": "code",
   "execution_count": 2,
   "metadata": {
    "collapsed": false
   },
   "outputs": [
    {
     "name": "stderr",
     "output_type": "stream",
     "text": [
      "[2017-03-03 10:34:39,673] Making new env: CartPole-v0\n"
     ]
    }
   ],
   "source": [
    "import gym\n",
    "env = gym.make('CartPole-v0')"
   ]
  },
  {
   "cell_type": "markdown",
   "metadata": {},
   "source": [
    "What happens if we try running the environment with random actions? How well do we do? (Hint: not so well.)"
   ]
  },
  {
   "cell_type": "code",
   "execution_count": 3,
   "metadata": {
    "collapsed": false
   },
   "outputs": [
    {
     "name": "stdout",
     "output_type": "stream",
     "text": [
      "Reward for this episode was: 21.0\n",
      "Reward for this episode was: 25.0\n",
      "Reward for this episode was: 33.0\n",
      "Reward for this episode was: 11.0\n",
      "Reward for this episode was: 19.0\n",
      "Reward for this episode was: 26.0\n",
      "Reward for this episode was: 37.0\n",
      "Reward for this episode was: 15.0\n",
      "Reward for this episode was: 56.0\n",
      "Reward for this episode was: 20.0\n"
     ]
    }
   ],
   "source": [
    "env.reset()\n",
    "random_episodes = 0\n",
    "reward_sum = 0\n",
    "while random_episodes < 10:\n",
    "    env.render()\n",
    "    observation, reward, done, _ = env.step(np.random.randint(0,2))\n",
    "    reward_sum += reward\n",
    "    if done:\n",
    "        random_episodes += 1\n",
    "        print(\"Reward for this episode was:\",reward_sum)\n",
    "        reward_sum = 0\n",
    "        env.reset()"
   ]
  },
  {
   "cell_type": "markdown",
   "metadata": {},
   "source": [
    "The goal of the task is to achieve a reward of 200 per episode. For every step the agent keeps the pole in the air, the agent recieves a +1 reward. By randomly choosing actions, our reward for each episode is only a couple dozen. Let's make that better with RL!"
   ]
  },
  {
   "cell_type": "markdown",
   "metadata": {},
   "source": [
    "### Setting up our Neural Network agent\n",
    "This time we will be using a Policy neural network that takes observations, passes them through a single hidden layer, and then produces a probability of choosing a left/right movement. To learn more about this network, see [Andrej Karpathy's blog on Policy Gradient networks](http://karpathy.github.io/2016/05/31/rl/)."
   ]
  },
  {
   "cell_type": "code",
   "execution_count": 4,
   "metadata": {
    "collapsed": true
   },
   "outputs": [],
   "source": [
    "# hyperparameters\n",
    "H = 10 # number of hidden layer neurons\n",
    "batch_size = 5 # every how many episodes to do a param update?\n",
    "learning_rate = 1e-2 # feel free to play with this to train faster or more stably.\n",
    "gamma = 0.99 # discount factor for reward\n",
    "\n",
    "D = 4 # input dimensionality"
   ]
  },
  {
   "cell_type": "code",
   "execution_count": 5,
   "metadata": {
    "collapsed": false
   },
   "outputs": [],
   "source": [
    "tf.reset_default_graph()\n",
    "\n",
    "#This defines the network as it goes from taking an observation of the environment to \n",
    "#giving a probability of chosing to the action of moving left or right.\n",
    "observations = tf.placeholder(tf.float32, [None,D] , name=\"input_x\")\n",
    "W1 = tf.get_variable(\"W1\", shape=[D, H],\n",
    "           initializer=tf.contrib.layers.xavier_initializer())\n",
    "layer1 = tf.nn.relu(tf.matmul(observations,W1))\n",
    "W2 = tf.get_variable(\"W2\", shape=[H, 1],\n",
    "           initializer=tf.contrib.layers.xavier_initializer())\n",
    "score = tf.matmul(layer1,W2)\n",
    "probability = tf.nn.sigmoid(score)\n",
    "\n",
    "#From here we define the parts of the network needed for learning a good policy.\n",
    "tvars = tf.trainable_variables()\n",
    "input_y = tf.placeholder(tf.float32,[None,1], name=\"input_y\")\n",
    "advantages = tf.placeholder(tf.float32,name=\"reward_signal\")\n",
    "\n",
    "# The loss function. This sends the weights in the direction of making actions \n",
    "# that gave good advantage (reward over time) more likely, and actions that didn't less likely.\n",
    "loglik = tf.log(input_y*(input_y - probability) + (1 - input_y)*(input_y + probability))\n",
    "loss = -tf.reduce_mean(loglik * advantages) \n",
    "newGrads = tf.gradients(loss,tvars)\n",
    "\n",
    "# Once we have collected a series of gradients from multiple episodes, we apply them.\n",
    "# We don't just apply gradeients after every episode in order to account for noise in the reward signal.\n",
    "adam = tf.train.AdamOptimizer(learning_rate=learning_rate) # Our optimizer\n",
    "W1Grad = tf.placeholder(tf.float32,name=\"batch_grad1\") # Placeholders to send the final gradients through when we update.\n",
    "W2Grad = tf.placeholder(tf.float32,name=\"batch_grad2\")\n",
    "batchGrad = [W1Grad,W2Grad]\n",
    "updateGrads = adam.apply_gradients(zip(batchGrad,tvars))"
   ]
  },
  {
   "cell_type": "markdown",
   "metadata": {},
   "source": [
    "### Advantage function\n",
    "This function allows us to weigh the rewards our agent recieves. In the context of the Cart-Pole task, we want actions that kept the pole in the air a long time to have a large reward, and actions that contributed to the pole falling to have a decreased or negative reward. We do this by weighing the rewards from the end of the episode, with actions at the end being seen as negative, since they likely contributed to the pole falling, and the episode ending. Likewise, early actions are seen as more positive, since they weren't responsible for the pole falling."
   ]
  },
  {
   "cell_type": "code",
   "execution_count": 6,
   "metadata": {
    "collapsed": true
   },
   "outputs": [],
   "source": [
    "def discount_rewards(r):\n",
    "    \"\"\" take 1D float array of rewards and compute discounted reward \"\"\"\n",
    "    discounted_r = np.zeros_like(r)\n",
    "    running_add = 0\n",
    "    for t in reversed(range(0, r.size)):\n",
    "        running_add = running_add * gamma + r[t]\n",
    "        discounted_r[t] = running_add\n",
    "    return discounted_r"
   ]
  },
  {
   "cell_type": "markdown",
   "metadata": {},
   "source": [
    "### Running the Agent and Environment"
   ]
  },
  {
   "cell_type": "markdown",
   "metadata": {},
   "source": [
    "Here we run the neural network agent, and have it act in the CartPole environment."
   ]
  },
  {
   "cell_type": "code",
   "execution_count": 7,
   "metadata": {
    "collapsed": false,
    "scrolled": true
   },
   "outputs": [
    {
     "name": "stdout",
     "output_type": "stream",
     "text": [
      "WARNING:tensorflow:From <ipython-input-7-5f10e26a8c0f>:6: initialize_all_variables (from tensorflow.python.ops.variables) is deprecated and will be removed after 2017-03-02.\n",
      "Instructions for updating:\n",
      "Use `tf.global_variables_initializer` instead.\n"
     ]
    },
    {
     "name": "stderr",
     "output_type": "stream",
     "text": [
      "[2017-03-03 10:34:46,187] From <ipython-input-7-5f10e26a8c0f>:6: initialize_all_variables (from tensorflow.python.ops.variables) is deprecated and will be removed after 2017-03-02.\n",
      "Instructions for updating:\n",
      "Use `tf.global_variables_initializer` instead.\n"
     ]
    },
    {
     "name": "stdout",
     "output_type": "stream",
     "text": [
      "Average reward for episode 20.600000.  Total average reward 20.600000.\n",
      "Average reward for episode 15.400000.  Total average reward 20.548000.\n",
      "Average reward for episode 17.200000.  Total average reward 20.514520.\n",
      "Average reward for episode 16.200000.  Total average reward 20.471375.\n",
      "Average reward for episode 29.000000.  Total average reward 20.556661.\n",
      "Average reward for episode 20.200000.  Total average reward 20.553094.\n",
      "Average reward for episode 21.800000.  Total average reward 20.565563.\n",
      "Average reward for episode 16.400000.  Total average reward 20.523908.\n",
      "Average reward for episode 30.400000.  Total average reward 20.622669.\n",
      "Average reward for episode 27.800000.  Total average reward 20.694442.\n",
      "Average reward for episode 22.000000.  Total average reward 20.707498.\n",
      "Average reward for episode 19.400000.  Total average reward 20.694423.\n",
      "Average reward for episode 24.000000.  Total average reward 20.727478.\n",
      "Average reward for episode 20.800000.  Total average reward 20.728204.\n",
      "Average reward for episode 14.600000.  Total average reward 20.666922.\n",
      "Average reward for episode 23.200000.  Total average reward 20.692252.\n",
      "Average reward for episode 28.400000.  Total average reward 20.769330.\n",
      "Average reward for episode 24.800000.  Total average reward 20.809637.\n",
      "Average reward for episode 33.400000.  Total average reward 20.935540.\n",
      "Average reward for episode 18.600000.  Total average reward 20.912185.\n",
      "Average reward for episode 28.800000.  Total average reward 20.991063.\n",
      "Average reward for episode 34.800000.  Total average reward 21.129152.\n",
      "Average reward for episode 17.200000.  Total average reward 21.089861.\n",
      "Average reward for episode 20.600000.  Total average reward 21.084962.\n",
      "Average reward for episode 20.000000.  Total average reward 21.074113.\n",
      "Average reward for episode 38.400000.  Total average reward 21.247371.\n",
      "Average reward for episode 31.600000.  Total average reward 21.350898.\n",
      "Average reward for episode 24.200000.  Total average reward 21.379389.\n",
      "Average reward for episode 28.400000.  Total average reward 21.449595.\n",
      "Average reward for episode 25.400000.  Total average reward 21.489099.\n",
      "Average reward for episode 24.000000.  Total average reward 21.514208.\n",
      "Average reward for episode 24.000000.  Total average reward 21.539066.\n",
      "Average reward for episode 34.200000.  Total average reward 21.665675.\n",
      "Average reward for episode 24.200000.  Total average reward 21.691018.\n",
      "Average reward for episode 19.400000.  Total average reward 21.668108.\n",
      "Average reward for episode 37.000000.  Total average reward 21.821427.\n",
      "Average reward for episode 36.000000.  Total average reward 21.963213.\n",
      "Average reward for episode 35.600000.  Total average reward 22.099581.\n",
      "Average reward for episode 27.400000.  Total average reward 22.152585.\n",
      "Average reward for episode 22.800000.  Total average reward 22.159059.\n",
      "Average reward for episode 18.800000.  Total average reward 22.125469.\n",
      "Average reward for episode 18.800000.  Total average reward 22.092214.\n",
      "Average reward for episode 34.400000.  Total average reward 22.215292.\n",
      "Average reward for episode 17.600000.  Total average reward 22.169139.\n",
      "Average reward for episode 34.600000.  Total average reward 22.293447.\n",
      "Average reward for episode 16.600000.  Total average reward 22.236513.\n",
      "Average reward for episode 23.600000.  Total average reward 22.250148.\n",
      "Average reward for episode 26.400000.  Total average reward 22.291646.\n",
      "Average reward for episode 34.600000.  Total average reward 22.414730.\n",
      "Average reward for episode 32.400000.  Total average reward 22.514583.\n",
      "Average reward for episode 26.000000.  Total average reward 22.549437.\n",
      "Average reward for episode 34.400000.  Total average reward 22.667942.\n",
      "Average reward for episode 31.800000.  Total average reward 22.759263.\n",
      "Average reward for episode 35.200000.  Total average reward 22.883670.\n",
      "Average reward for episode 24.000000.  Total average reward 22.894834.\n",
      "Average reward for episode 43.000000.  Total average reward 23.095885.\n",
      "Average reward for episode 30.000000.  Total average reward 23.164926.\n",
      "Average reward for episode 35.400000.  Total average reward 23.287277.\n",
      "Average reward for episode 36.000000.  Total average reward 23.414404.\n",
      "Average reward for episode 21.400000.  Total average reward 23.394260.\n",
      "Average reward for episode 39.800000.  Total average reward 23.558318.\n",
      "Average reward for episode 16.800000.  Total average reward 23.490735.\n",
      "Average reward for episode 49.600000.  Total average reward 23.751827.\n",
      "Average reward for episode 28.800000.  Total average reward 23.802309.\n",
      "Average reward for episode 40.600000.  Total average reward 23.970286.\n",
      "Average reward for episode 23.400000.  Total average reward 23.964583.\n",
      "Average reward for episode 22.000000.  Total average reward 23.944937.\n",
      "Average reward for episode 38.200000.  Total average reward 24.087488.\n",
      "Average reward for episode 26.800000.  Total average reward 24.114613.\n",
      "Average reward for episode 35.600000.  Total average reward 24.229467.\n",
      "Average reward for episode 23.000000.  Total average reward 24.217172.\n",
      "Average reward for episode 28.000000.  Total average reward 24.255000.\n",
      "Average reward for episode 37.600000.  Total average reward 24.388450.\n",
      "Average reward for episode 42.600000.  Total average reward 24.570566.\n",
      "Average reward for episode 54.000000.  Total average reward 24.864860.\n",
      "Average reward for episode 38.000000.  Total average reward 24.996212.\n",
      "Average reward for episode 21.000000.  Total average reward 24.956250.\n",
      "Average reward for episode 39.000000.  Total average reward 25.096687.\n",
      "Average reward for episode 29.600000.  Total average reward 25.141720.\n",
      "Average reward for episode 40.400000.  Total average reward 25.294303.\n",
      "Average reward for episode 46.200000.  Total average reward 25.503360.\n",
      "Average reward for episode 21.600000.  Total average reward 25.464326.\n",
      "Average reward for episode 42.200000.  Total average reward 25.631683.\n",
      "Average reward for episode 44.200000.  Total average reward 25.817366.\n",
      "Average reward for episode 42.000000.  Total average reward 25.979193.\n",
      "Average reward for episode 36.600000.  Total average reward 26.085401.\n",
      "Average reward for episode 45.600000.  Total average reward 26.280547.\n",
      "Average reward for episode 30.200000.  Total average reward 26.319741.\n",
      "Average reward for episode 35.600000.  Total average reward 26.412544.\n",
      "Average reward for episode 58.800000.  Total average reward 26.736418.\n",
      "Average reward for episode 34.800000.  Total average reward 26.817054.\n",
      "Average reward for episode 47.800000.  Total average reward 27.026884.\n",
      "Average reward for episode 63.400000.  Total average reward 27.390615.\n",
      "Average reward for episode 32.800000.  Total average reward 27.444709.\n",
      "Average reward for episode 61.200000.  Total average reward 27.782262.\n",
      "Average reward for episode 37.000000.  Total average reward 27.874439.\n",
      "Average reward for episode 33.600000.  Total average reward 27.931695.\n",
      "Average reward for episode 48.000000.  Total average reward 28.132378.\n",
      "Average reward for episode 36.400000.  Total average reward 28.215054.\n",
      "Average reward for episode 43.000000.  Total average reward 28.362903.\n",
      "Average reward for episode 58.800000.  Total average reward 28.667274.\n",
      "Average reward for episode 32.000000.  Total average reward 28.700601.\n",
      "Average reward for episode 40.400000.  Total average reward 28.817595.\n",
      "Average reward for episode 68.200000.  Total average reward 29.211420.\n",
      "Average reward for episode 49.400000.  Total average reward 29.413305.\n",
      "Average reward for episode 51.600000.  Total average reward 29.635172.\n",
      "Average reward for episode 63.600000.  Total average reward 29.974821.\n",
      "Average reward for episode 42.600000.  Total average reward 30.101072.\n",
      "Average reward for episode 52.200000.  Total average reward 30.322062.\n",
      "Average reward for episode 33.800000.  Total average reward 30.356841.\n",
      "Average reward for episode 31.200000.  Total average reward 30.365273.\n",
      "Average reward for episode 76.200000.  Total average reward 30.823620.\n",
      "Average reward for episode 46.600000.  Total average reward 30.981384.\n",
      "Average reward for episode 66.600000.  Total average reward 31.337570.\n",
      "Average reward for episode 33.800000.  Total average reward 31.362194.\n",
      "Average reward for episode 76.400000.  Total average reward 31.812572.\n",
      "Average reward for episode 58.200000.  Total average reward 32.076446.\n",
      "Average reward for episode 49.200000.  Total average reward 32.247682.\n",
      "Average reward for episode 62.200000.  Total average reward 32.547205.\n",
      "Average reward for episode 83.000000.  Total average reward 33.051733.\n",
      "Average reward for episode 36.000000.  Total average reward 33.081216.\n",
      "Average reward for episode 39.800000.  Total average reward 33.148404.\n",
      "Average reward for episode 46.800000.  Total average reward 33.284920.\n",
      "Average reward for episode 29.800000.  Total average reward 33.250070.\n",
      "Average reward for episode 81.000000.  Total average reward 33.727570.\n",
      "Average reward for episode 56.600000.  Total average reward 33.956294.\n",
      "Average reward for episode 69.600000.  Total average reward 34.312731.\n",
      "Average reward for episode 86.200000.  Total average reward 34.831604.\n",
      "Average reward for episode 82.400000.  Total average reward 35.307288.\n",
      "Average reward for episode 86.400000.  Total average reward 35.818215.\n",
      "Average reward for episode 42.000000.  Total average reward 35.880033.\n",
      "Average reward for episode 61.200000.  Total average reward 36.133232.\n",
      "Average reward for episode 57.600000.  Total average reward 36.347900.\n",
      "Average reward for episode 36.200000.  Total average reward 36.346421.\n",
      "Average reward for episode 72.800000.  Total average reward 36.710957.\n",
      "Average reward for episode 69.200000.  Total average reward 37.035847.\n",
      "Average reward for episode 93.600000.  Total average reward 37.601489.\n",
      "Average reward for episode 62.800000.  Total average reward 37.853474.\n",
      "Average reward for episode 63.800000.  Total average reward 38.112939.\n",
      "Average reward for episode 65.000000.  Total average reward 38.381810.\n",
      "Average reward for episode 61.000000.  Total average reward 38.607992.\n",
      "Average reward for episode 37.600000.  Total average reward 38.597912.\n",
      "Average reward for episode 104.200000.  Total average reward 39.253933.\n",
      "Average reward for episode 98.200000.  Total average reward 39.843393.\n",
      "Average reward for episode 125.000000.  Total average reward 40.694959.\n",
      "Average reward for episode 93.800000.  Total average reward 41.226010.\n",
      "Average reward for episode 86.200000.  Total average reward 41.675750.\n",
      "Average reward for episode 124.400000.  Total average reward 42.502992.\n",
      "Average reward for episode 102.600000.  Total average reward 43.103962.\n",
      "Average reward for episode 113.000000.  Total average reward 43.802923.\n",
      "Average reward for episode 58.400000.  Total average reward 43.948893.\n",
      "Average reward for episode 104.200000.  Total average reward 44.551404.\n",
      "Average reward for episode 76.400000.  Total average reward 44.869890.\n",
      "Average reward for episode 99.600000.  Total average reward 45.417192.\n",
      "Average reward for episode 112.400000.  Total average reward 46.087020.\n",
      "Average reward for episode 96.600000.  Total average reward 46.592149.\n",
      "Average reward for episode 81.800000.  Total average reward 46.944228.\n",
      "Average reward for episode 151.200000.  Total average reward 47.986786.\n",
      "Average reward for episode 106.200000.  Total average reward 48.568918.\n",
      "Average reward for episode 131.400000.  Total average reward 49.397229.\n",
      "Average reward for episode 123.600000.  Total average reward 50.139256.\n",
      "Average reward for episode 175.000000.  Total average reward 51.387864.\n",
      "Average reward for episode 146.600000.  Total average reward 52.339985.\n",
      "Average reward for episode 121.400000.  Total average reward 53.030585.\n",
      "Average reward for episode 196.400000.  Total average reward 54.464279.\n",
      "Average reward for episode 143.600000.  Total average reward 55.355637.\n",
      "Average reward for episode 156.000000.  Total average reward 56.362080.\n",
      "Average reward for episode 179.000000.  Total average reward 57.588459.\n",
      "Average reward for episode 156.200000.  Total average reward 58.574575.\n",
      "Average reward for episode 115.200000.  Total average reward 59.140829.\n",
      "Average reward for episode 107.200000.  Total average reward 59.621421.\n",
      "Average reward for episode 166.600000.  Total average reward 60.691207.\n",
      "Average reward for episode 166.000000.  Total average reward 61.744295.\n",
      "Average reward for episode 148.800000.  Total average reward 62.614852.\n",
      "Average reward for episode 110.200000.  Total average reward 63.090703.\n",
      "Average reward for episode 188.000000.  Total average reward 64.339796.\n",
      "Average reward for episode 238.200000.  Total average reward 66.078398.\n",
      "Task solved in 885 episodes!\n",
      "885 Episodes completed.\n"
     ]
    }
   ],
   "source": [
    "xs,hs,dlogps,drs,ys,tfps = [],[],[],[],[],[]\n",
    "running_reward = None\n",
    "reward_sum = 0\n",
    "episode_number = 1\n",
    "total_episodes = 10000\n",
    "init = tf.initialize_all_variables()\n",
    "\n",
    "# Launch the graph\n",
    "with tf.Session() as sess:\n",
    "    rendering = False\n",
    "    sess.run(init)\n",
    "    observation = env.reset() # Obtain an initial observation of the environment\n",
    "\n",
    "    # Reset the gradient placeholder. We will collect gradients in \n",
    "    # gradBuffer until we are ready to update our policy network. \n",
    "    gradBuffer = sess.run(tvars)\n",
    "    for ix,grad in enumerate(gradBuffer):\n",
    "        gradBuffer[ix] = grad * 0\n",
    "    \n",
    "    while episode_number <= total_episodes:\n",
    "        \n",
    "        # Rendering the environment slows things down, \n",
    "        # so let's only look at it once our agent is doing a good job.\n",
    "        if reward_sum/batch_size > 100 or rendering == True : \n",
    "            env.render()\n",
    "            rendering = True\n",
    "            \n",
    "        # Make sure the observation is in a shape the network can handle.\n",
    "        x = np.reshape(observation,[1,D])\n",
    "        \n",
    "        # Run the policy network and get an action to take. \n",
    "        tfprob = sess.run(probability,feed_dict={observations: x})\n",
    "        action = 1 if np.random.uniform() < tfprob else 0\n",
    "        \n",
    "        xs.append(x) # observation\n",
    "        y = 1 if action == 0 else 0 # a \"fake label\"\n",
    "        ys.append(y)\n",
    "\n",
    "        # step the environment and get new measurements\n",
    "        observation, reward, done, info = env.step(action)\n",
    "        reward_sum += reward\n",
    "\n",
    "        drs.append(reward) # record reward (has to be done after we call step() to get reward for previous action)\n",
    "\n",
    "        if done: \n",
    "            episode_number += 1\n",
    "            # stack together all inputs, hidden states, action gradients, and rewards for this episode\n",
    "            epx = np.vstack(xs)\n",
    "            epy = np.vstack(ys)\n",
    "            epr = np.vstack(drs)\n",
    "            tfp = tfps\n",
    "            xs,hs,dlogps,drs,ys,tfps = [],[],[],[],[],[] # reset array memory\n",
    "\n",
    "            # compute the discounted reward backwards through time\n",
    "            discounted_epr = discount_rewards(epr)\n",
    "            # size the rewards to be unit normal (helps control the gradient estimator variance)\n",
    "            discounted_epr -= np.mean(discounted_epr)\n",
    "            discounted_epr /= np.std(discounted_epr)\n",
    "            \n",
    "            # Get the gradient for this episode, and save it in the gradBuffer\n",
    "            tGrad = sess.run(newGrads,feed_dict={observations: epx, input_y: epy, advantages: discounted_epr})\n",
    "            for ix,grad in enumerate(tGrad):\n",
    "                gradBuffer[ix] += grad\n",
    "                \n",
    "            # If we have completed enough episodes, then update the policy network with our gradients.\n",
    "            if episode_number % batch_size == 0: \n",
    "                sess.run(updateGrads,feed_dict={W1Grad: gradBuffer[0],W2Grad:gradBuffer[1]})\n",
    "                for ix,grad in enumerate(gradBuffer):\n",
    "                    gradBuffer[ix] = grad * 0\n",
    "                \n",
    "                # Give a summary of how well our network is doing for each batch of episodes.\n",
    "                running_reward = reward_sum if running_reward is None else running_reward * 0.99 + reward_sum * 0.01\n",
    "                print('Average reward for episode %f.  Total average reward %f.' % (reward_sum/batch_size, running_reward/batch_size))\n",
    "                \n",
    "                if reward_sum/batch_size > 200: \n",
    "                    print(\"Task solved in\",episode_number,'episodes!')\n",
    "                    break\n",
    "                    \n",
    "                reward_sum = 0\n",
    "            \n",
    "            observation = env.reset()\n",
    "        \n",
    "print(episode_number,'Episodes completed.')"
   ]
  },
  {
   "cell_type": "markdown",
   "metadata": {},
   "source": [
    "As you can see, the network not only does much better than random actions, but achieves the goal of 200 points per episode, thus solving the task!"
   ]
  }
 ],
 "metadata": {
  "anaconda-cloud": {},
  "kernelspec": {
   "display_name": "Python [default]",
   "language": "python",
   "name": "python3"
  },
  "language_info": {
   "codemirror_mode": {
    "name": "ipython",
    "version": 3
   },
   "file_extension": ".py",
   "mimetype": "text/x-python",
   "name": "python",
   "nbconvert_exporter": "python",
   "pygments_lexer": "ipython3",
   "version": "3.5.2"
  }
 },
 "nbformat": 4,
 "nbformat_minor": 0
}
