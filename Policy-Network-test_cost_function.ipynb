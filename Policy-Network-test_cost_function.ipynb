{
 "cells": [
  {
   "cell_type": "markdown",
   "metadata": {},
   "source": [
    "# Simple Reinforcement Learning in Tensorflow Part 2: Policy Gradient Method\n",
    "This tutorial contains a simple example of how to build a policy-gradient based agent that can solve the CartPole problem. For more information, see this [Medium post](https://medium.com/@awjuliani/super-simple-reinforcement-learning-tutorial-part-2-ded33892c724#.mtwpvfi8b).\n",
    "\n",
    "For more Reinforcement Learning algorithms, including DQN and Model-based learning in Tensorflow, see my Github repo, [DeepRL-Agents](https://github.com/awjuliani/DeepRL-Agents). \n",
    "\n",
    "Parts of this tutorial are based on code by [Andrej Karpathy](https://gist.github.com/karpathy/a4166c7fe253700972fcbc77e4ea32c5) and [korymath](https://gym.openai.com/evaluations/eval_a0aVJrGSyW892vBM04HQA)."
   ]
  },
  {
   "cell_type": "code",
   "execution_count": 1,
   "metadata": {
    "collapsed": false
   },
   "outputs": [],
   "source": [
    "import numpy as np\n",
    "import sys\n",
    "if (sys.hexversion < 0x03000000):\n",
    "    import cPickle as pickle\n",
    "else:\n",
    "    import pickle\n",
    "import tensorflow as tf\n",
    "%matplotlib inline\n",
    "import matplotlib.pyplot as plt\n",
    "import math"
   ]
  },
  {
   "cell_type": "markdown",
   "metadata": {},
   "source": [
    "### Loading the CartPole Environment\n",
    "If you don't already have the OpenAI gym installed, use  `pip install gym` to grab it."
   ]
  },
  {
   "cell_type": "code",
   "execution_count": 2,
   "metadata": {
    "collapsed": false
   },
   "outputs": [
    {
     "name": "stderr",
     "output_type": "stream",
     "text": [
      "[2017-03-06 10:24:41,019] Making new env: CartPole-v0\n"
     ]
    }
   ],
   "source": [
    "import gym\n",
    "env = gym.make('CartPole-v0')"
   ]
  },
  {
   "cell_type": "markdown",
   "metadata": {},
   "source": [
    "What happens if we try running the environment with random actions? How well do we do? (Hint: not so well.)"
   ]
  },
  {
   "cell_type": "code",
   "execution_count": 3,
   "metadata": {
    "collapsed": false
   },
   "outputs": [
    {
     "name": "stdout",
     "output_type": "stream",
     "text": [
      "Reward for this episode was: 16.0\n",
      "Reward for this episode was: 14.0\n",
      "Reward for this episode was: 36.0\n",
      "Reward for this episode was: 18.0\n",
      "Reward for this episode was: 32.0\n",
      "Reward for this episode was: 14.0\n",
      "Reward for this episode was: 16.0\n",
      "Reward for this episode was: 16.0\n",
      "Reward for this episode was: 8.0\n",
      "Reward for this episode was: 17.0\n"
     ]
    }
   ],
   "source": [
    "env.reset()\n",
    "random_episodes = 0\n",
    "reward_sum = 0\n",
    "while random_episodes < 10:\n",
    "    env.render()\n",
    "    observation, reward, done, _ = env.step(np.random.randint(0,2))\n",
    "    reward_sum += reward\n",
    "    if done:\n",
    "        random_episodes += 1\n",
    "        print(\"Reward for this episode was:\",reward_sum)\n",
    "        reward_sum = 0\n",
    "        env.reset()"
   ]
  },
  {
   "cell_type": "markdown",
   "metadata": {},
   "source": [
    "The goal of the task is to achieve a reward of 200 per episode. For every step the agent keeps the pole in the air, the agent recieves a +1 reward. By randomly choosing actions, our reward for each episode is only a couple dozen. Let's make that better with RL!"
   ]
  },
  {
   "cell_type": "markdown",
   "metadata": {},
   "source": [
    "### Setting up our Neural Network agent\n",
    "This time we will be using a Policy neural network that takes observations, passes them through a single hidden layer, and then produces a probability of choosing a left/right movement. To learn more about this network, see [Andrej Karpathy's blog on Policy Gradient networks](http://karpathy.github.io/2016/05/31/rl/)."
   ]
  },
  {
   "cell_type": "code",
   "execution_count": 4,
   "metadata": {
    "collapsed": true
   },
   "outputs": [],
   "source": [
    "# hyperparameters\n",
    "H = 10 # number of hidden layer neurons\n",
    "batch_size = 5 # every how many episodes to do a param update?\n",
    "learning_rate = 1e-2 # feel free to play with this to train faster or more stably.\n",
    "gamma = 0.99 # discount factor for reward\n",
    "\n",
    "D = 4 # input dimensionality"
   ]
  },
  {
   "cell_type": "code",
   "execution_count": 5,
   "metadata": {
    "collapsed": false
   },
   "outputs": [],
   "source": [
    "tf.reset_default_graph()\n",
    "\n",
    "#This defines the network as it goes from taking an observation of the environment to \n",
    "#giving a probability of chosing to the action of moving left or right.\n",
    "observations = tf.placeholder(tf.float32, [None,D] , name=\"input_x\")\n",
    "W1 = tf.get_variable(\"W1\", shape=[D, H],\n",
    "           initializer=tf.contrib.layers.xavier_initializer())\n",
    "layer1 = tf.nn.relu(tf.matmul(observations,W1))\n",
    "W2 = tf.get_variable(\"W2\", shape=[H, 1],\n",
    "           initializer=tf.contrib.layers.xavier_initializer())\n",
    "score = tf.matmul(layer1,W2)\n",
    "probability = tf.nn.sigmoid(score)\n",
    "\n",
    "#From here we define the parts of the network needed for learning a good policy.\n",
    "tvars = tf.trainable_variables()\n",
    "input_y = tf.placeholder(tf.float32,[None,1], name=\"input_y\")\n",
    "advantages = tf.placeholder(tf.float32,name=\"reward_signal\")\n",
    "\n",
    "# The loss function. This sends the weights in the direction of making actions \n",
    "# that gave good advantage (reward over time) more likely, and actions that didn't less likely.\n",
    "#loglik = tf.log(input_y*(input_y - probability) + (1 - input_y)*(input_y + probability))    # using author(awjuliani)'s original cost function\n",
    "loglik = input_y*tf.log(probability) + (1 - input_y)*tf.log(1 - probability)    # using logistic regression cost function\n",
    "loss = -tf.reduce_mean(loglik * advantages) \n",
    "newGrads = tf.gradients(loss,tvars)\n",
    "\n",
    "# Once we have collected a series of gradients from multiple episodes, we apply them.\n",
    "# We don't just apply gradeients after every episode in order to account for noise in the reward signal.\n",
    "adam = tf.train.AdamOptimizer(learning_rate=learning_rate) # Our optimizer\n",
    "W1Grad = tf.placeholder(tf.float32,name=\"batch_grad1\") # Placeholders to send the final gradients through when we update.\n",
    "W2Grad = tf.placeholder(tf.float32,name=\"batch_grad2\")\n",
    "batchGrad = [W1Grad,W2Grad]\n",
    "updateGrads = adam.apply_gradients(zip(batchGrad,tvars))"
   ]
  },
  {
   "cell_type": "markdown",
   "metadata": {},
   "source": [
    "### Advantage function\n",
    "This function allows us to weigh the rewards our agent recieves. In the context of the Cart-Pole task, we want actions that kept the pole in the air a long time to have a large reward, and actions that contributed to the pole falling to have a decreased or negative reward. We do this by weighing the rewards from the end of the episode, with actions at the end being seen as negative, since they likely contributed to the pole falling, and the episode ending. Likewise, early actions are seen as more positive, since they weren't responsible for the pole falling."
   ]
  },
  {
   "cell_type": "code",
   "execution_count": 6,
   "metadata": {
    "collapsed": true
   },
   "outputs": [],
   "source": [
    "def discount_rewards(r):\n",
    "    \"\"\" take 1D float array of rewards and compute discounted reward \"\"\"\n",
    "    discounted_r = np.zeros_like(r)\n",
    "    running_add = 0\n",
    "    for t in reversed(range(0, r.size)):\n",
    "        running_add = running_add * gamma + r[t]\n",
    "        discounted_r[t] = running_add\n",
    "    return discounted_r"
   ]
  },
  {
   "cell_type": "markdown",
   "metadata": {},
   "source": [
    "### Running the Agent and Environment"
   ]
  },
  {
   "cell_type": "markdown",
   "metadata": {},
   "source": [
    "Here we run the neural network agent, and have it act in the CartPole environment."
   ]
  },
  {
   "cell_type": "code",
   "execution_count": 7,
   "metadata": {
    "collapsed": false
   },
   "outputs": [],
   "source": [
    "xs,hs,dlogps,drs,ys,tfps = [],[],[],[],[],[]\n",
    "running_reward = None\n",
    "reward_sum = 0\n",
    "episode_number = 1\n",
    "total_episodes = 10000\n",
    "init = tf.global_variables_initializer()"
   ]
  },
  {
   "cell_type": "code",
   "execution_count": 8,
   "metadata": {
    "collapsed": false
   },
   "outputs": [
    {
     "name": "stdout",
     "output_type": "stream",
     "text": [
      "Average reward for episode 22.600000.  Total average reward 22.600000.\n",
      "Average reward for episode 24.400000.  Total average reward 22.618000.\n",
      "Average reward for episode 16.200000.  Total average reward 22.553820.\n",
      "Average reward for episode 19.000000.  Total average reward 22.518282.\n",
      "Average reward for episode 18.200000.  Total average reward 22.475099.\n",
      "Average reward for episode 20.800000.  Total average reward 22.458348.\n",
      "Average reward for episode 21.400000.  Total average reward 22.447765.\n",
      "Average reward for episode 26.800000.  Total average reward 22.491287.\n",
      "Average reward for episode 23.000000.  Total average reward 22.496374.\n",
      "Average reward for episode 22.000000.  Total average reward 22.491410.\n",
      "Average reward for episode 27.800000.  Total average reward 22.544496.\n",
      "Average reward for episode 17.400000.  Total average reward 22.493051.\n",
      "Average reward for episode 24.800000.  Total average reward 22.516121.\n",
      "Average reward for episode 18.800000.  Total average reward 22.478959.\n",
      "Average reward for episode 22.000000.  Total average reward 22.474170.\n",
      "Average reward for episode 17.400000.  Total average reward 22.423428.\n",
      "Average reward for episode 20.000000.  Total average reward 22.399194.\n",
      "Average reward for episode 23.000000.  Total average reward 22.405202.\n",
      "Average reward for episode 40.000000.  Total average reward 22.581150.\n",
      "Average reward for episode 23.800000.  Total average reward 22.593338.\n",
      "Average reward for episode 33.600000.  Total average reward 22.703405.\n",
      "Average reward for episode 28.600000.  Total average reward 22.762371.\n",
      "Average reward for episode 27.600000.  Total average reward 22.810747.\n",
      "Average reward for episode 32.400000.  Total average reward 22.906640.\n",
      "Average reward for episode 31.000000.  Total average reward 22.987573.\n",
      "Average reward for episode 26.000000.  Total average reward 23.017698.\n",
      "Average reward for episode 24.400000.  Total average reward 23.031521.\n",
      "Average reward for episode 17.400000.  Total average reward 22.975206.\n",
      "Average reward for episode 33.600000.  Total average reward 23.081453.\n",
      "Average reward for episode 35.800000.  Total average reward 23.208639.\n",
      "Average reward for episode 37.200000.  Total average reward 23.348553.\n",
      "Average reward for episode 35.600000.  Total average reward 23.471067.\n",
      "Average reward for episode 31.000000.  Total average reward 23.546356.\n",
      "Average reward for episode 51.400000.  Total average reward 23.824893.\n",
      "Average reward for episode 26.400000.  Total average reward 23.850644.\n",
      "Average reward for episode 41.000000.  Total average reward 24.022137.\n",
      "Average reward for episode 55.600000.  Total average reward 24.337916.\n",
      "Average reward for episode 37.400000.  Total average reward 24.468537.\n",
      "Average reward for episode 29.000000.  Total average reward 24.513852.\n",
      "Average reward for episode 41.000000.  Total average reward 24.678713.\n",
      "Average reward for episode 63.400000.  Total average reward 25.065926.\n",
      "Average reward for episode 44.200000.  Total average reward 25.257267.\n",
      "Average reward for episode 25.200000.  Total average reward 25.256694.\n",
      "Average reward for episode 24.800000.  Total average reward 25.252127.\n",
      "Average reward for episode 26.400000.  Total average reward 25.263606.\n",
      "Average reward for episode 24.000000.  Total average reward 25.250970.\n",
      "Average reward for episode 40.200000.  Total average reward 25.400460.\n",
      "Average reward for episode 41.000000.  Total average reward 25.556455.\n",
      "Average reward for episode 37.000000.  Total average reward 25.670891.\n",
      "Average reward for episode 69.200000.  Total average reward 26.106182.\n",
      "Average reward for episode 33.800000.  Total average reward 26.183120.\n",
      "Average reward for episode 48.200000.  Total average reward 26.403289.\n",
      "Average reward for episode 56.800000.  Total average reward 26.707256.\n",
      "Average reward for episode 42.800000.  Total average reward 26.868183.\n",
      "Average reward for episode 43.400000.  Total average reward 27.033502.\n",
      "Average reward for episode 55.600000.  Total average reward 27.319167.\n",
      "Average reward for episode 41.000000.  Total average reward 27.455975.\n",
      "Average reward for episode 35.800000.  Total average reward 27.539415.\n",
      "Average reward for episode 49.400000.  Total average reward 27.758021.\n",
      "Average reward for episode 32.600000.  Total average reward 27.806441.\n",
      "Average reward for episode 37.200000.  Total average reward 27.900376.\n",
      "Average reward for episode 60.400000.  Total average reward 28.225373.\n",
      "Average reward for episode 56.000000.  Total average reward 28.503119.\n",
      "Average reward for episode 44.000000.  Total average reward 28.658088.\n",
      "Average reward for episode 38.600000.  Total average reward 28.757507.\n",
      "Average reward for episode 50.400000.  Total average reward 28.973932.\n",
      "Average reward for episode 25.800000.  Total average reward 28.942192.\n",
      "Average reward for episode 39.800000.  Total average reward 29.050771.\n",
      "Average reward for episode 52.200000.  Total average reward 29.282263.\n",
      "Average reward for episode 37.000000.  Total average reward 29.359440.\n",
      "Average reward for episode 43.400000.  Total average reward 29.499846.\n",
      "Average reward for episode 44.800000.  Total average reward 29.652847.\n",
      "Average reward for episode 76.000000.  Total average reward 30.116319.\n",
      "Average reward for episode 39.600000.  Total average reward 30.211156.\n",
      "Average reward for episode 59.400000.  Total average reward 30.503044.\n",
      "Average reward for episode 51.000000.  Total average reward 30.708014.\n",
      "Average reward for episode 41.800000.  Total average reward 30.818934.\n",
      "Average reward for episode 31.800000.  Total average reward 30.828744.\n",
      "Average reward for episode 32.600000.  Total average reward 30.846457.\n",
      "Average reward for episode 72.200000.  Total average reward 31.259992.\n",
      "Average reward for episode 51.800000.  Total average reward 31.465392.\n",
      "Average reward for episode 49.400000.  Total average reward 31.644738.\n",
      "Average reward for episode 85.600000.  Total average reward 32.184291.\n",
      "Average reward for episode 49.800000.  Total average reward 32.360448.\n",
      "Average reward for episode 80.200000.  Total average reward 32.838844.\n",
      "Average reward for episode 47.200000.  Total average reward 32.982455.\n",
      "Average reward for episode 45.400000.  Total average reward 33.106631.\n",
      "Average reward for episode 55.400000.  Total average reward 33.329564.\n",
      "Average reward for episode 60.400000.  Total average reward 33.600269.\n",
      "Average reward for episode 63.800000.  Total average reward 33.902266.\n",
      "Average reward for episode 52.600000.  Total average reward 34.089243.\n",
      "Average reward for episode 70.200000.  Total average reward 34.450351.\n",
      "Average reward for episode 40.800000.  Total average reward 34.513847.\n",
      "Average reward for episode 56.800000.  Total average reward 34.736709.\n",
      "Average reward for episode 64.200000.  Total average reward 35.031342.\n",
      "Average reward for episode 76.000000.  Total average reward 35.441028.\n",
      "Average reward for episode 52.600000.  Total average reward 35.612618.\n",
      "Average reward for episode 44.800000.  Total average reward 35.704492.\n",
      "Average reward for episode 66.400000.  Total average reward 36.011447.\n",
      "Average reward for episode 56.600000.  Total average reward 36.217333.\n",
      "Average reward for episode 77.600000.  Total average reward 36.631159.\n",
      "Average reward for episode 73.800000.  Total average reward 37.002848.\n",
      "Average reward for episode 82.200000.  Total average reward 37.454819.\n",
      "Average reward for episode 85.400000.  Total average reward 37.934271.\n",
      "Average reward for episode 66.200000.  Total average reward 38.216928.\n",
      "Average reward for episode 93.200000.  Total average reward 38.766759.\n",
      "Average reward for episode 72.800000.  Total average reward 39.107091.\n",
      "Average reward for episode 68.400000.  Total average reward 39.400020.\n",
      "Average reward for episode 109.600000.  Total average reward 40.102020.\n",
      "Average reward for episode 110.800000.  Total average reward 40.809000.\n",
      "Average reward for episode 107.000000.  Total average reward 41.470910.\n",
      "Average reward for episode 58.200000.  Total average reward 41.638201.\n",
      "Average reward for episode 42.800000.  Total average reward 41.649819.\n",
      "Average reward for episode 77.800000.  Total average reward 42.011321.\n",
      "Average reward for episode 71.400000.  Total average reward 42.305208.\n",
      "Average reward for episode 89.800000.  Total average reward 42.780155.\n",
      "Average reward for episode 59.000000.  Total average reward 42.942354.\n",
      "Average reward for episode 76.800000.  Total average reward 43.280930.\n",
      "Average reward for episode 48.800000.  Total average reward 43.336121.\n",
      "Average reward for episode 84.000000.  Total average reward 43.742760.\n",
      "Average reward for episode 105.200000.  Total average reward 44.357332.\n",
      "Average reward for episode 95.600000.  Total average reward 44.869759.\n",
      "Average reward for episode 120.800000.  Total average reward 45.629061.\n",
      "Average reward for episode 102.600000.  Total average reward 46.198771.\n",
      "Average reward for episode 82.800000.  Total average reward 46.564783.\n",
      "Average reward for episode 116.000000.  Total average reward 47.259135.\n",
      "Average reward for episode 65.400000.  Total average reward 47.440544.\n",
      "Average reward for episode 83.400000.  Total average reward 47.800138.\n",
      "Average reward for episode 93.400000.  Total average reward 48.256137.\n",
      "Average reward for episode 88.400000.  Total average reward 48.657576.\n",
      "Average reward for episode 141.600000.  Total average reward 49.587000.\n",
      "Average reward for episode 129.200000.  Total average reward 50.383130.\n",
      "Average reward for episode 132.600000.  Total average reward 51.205299.\n",
      "Average reward for episode 145.000000.  Total average reward 52.143246.\n",
      "Average reward for episode 130.000000.  Total average reward 52.921813.\n",
      "Average reward for episode 116.200000.  Total average reward 53.554595.\n",
      "Average reward for episode 105.000000.  Total average reward 54.069049.\n",
      "Average reward for episode 106.000000.  Total average reward 54.588359.\n",
      "Average reward for episode 145.000000.  Total average reward 55.492475.\n",
      "Average reward for episode 131.000000.  Total average reward 56.247550.\n",
      "Average reward for episode 141.400000.  Total average reward 57.099075.\n",
      "Average reward for episode 146.600000.  Total average reward 57.994084.\n",
      "Average reward for episode 104.800000.  Total average reward 58.462143.\n",
      "Average reward for episode 180.600000.  Total average reward 59.683522.\n",
      "Average reward for episode 119.400000.  Total average reward 60.280686.\n",
      "Average reward for episode 117.000000.  Total average reward 60.847880.\n",
      "Average reward for episode 147.400000.  Total average reward 61.713401.\n",
      "Average reward for episode 108.400000.  Total average reward 62.180267.\n",
      "Average reward for episode 207.800000.  Total average reward 63.636464.\n",
      "Task solved in 745 episodes!\n",
      "745 Episodes completed.\n"
     ]
    }
   ],
   "source": [
    "# Launch the graph\n",
    "with tf.Session() as sess:\n",
    "    rendering = False\n",
    "    sess.run(init)\n",
    "    observation = env.reset() # Obtain an initial observation of the environment\n",
    "\n",
    "    # Reset the gradient placeholder. We will collect gradients in \n",
    "    # gradBuffer until we are ready to update our policy network. \n",
    "    gradBuffer = sess.run(tvars)\n",
    "\n",
    "    for ix,grad in enumerate(gradBuffer):\n",
    "        gradBuffer[ix] = grad * 0\n",
    "\n",
    "    while episode_number <= total_episodes:\n",
    "        \n",
    "        # Rendering the environment slows things down, \n",
    "        # so let's only look at it once our agent is doing a good job.\n",
    "        if reward_sum/batch_size > 100 or rendering == True : \n",
    "            env.render()\n",
    "            rendering = True\n",
    "            \n",
    "        # Make sure the observation is in a shape the network can handle.\n",
    "        x = np.reshape(observation,[1,D])\n",
    "        \n",
    "        # Run the policy network and get an action to take. \n",
    "        tfprob = sess.run(probability,feed_dict={observations: x})\n",
    "        action = 1 if np.random.uniform() < tfprob else 0\n",
    "        \n",
    "        xs.append(x) # observation\n",
    "#        y = 1 if action == 0 else 0 # a \"fake label\"   # using author(awjuliani)'s original cost function\n",
    "        y = 1 if action != 0 else 0 # a \"fake label\"    # using logistic regression cost function\n",
    "        ys.append(y)\n",
    "\n",
    "        # step the environment and get new measurements\n",
    "        observation, reward, done, info = env.step(action)\n",
    "        reward_sum += reward\n",
    "\n",
    "        drs.append(reward) # record reward (has to be done after we call step() to get reward for previous action)\n",
    "\n",
    "        if done: \n",
    "            episode_number += 1\n",
    "            # stack together all inputs, hidden states, action gradients, and rewards for this episode\n",
    "            episode_x = np.vstack(xs)\n",
    "            episode_y = np.vstack(ys)\n",
    "            episode_reward = np.vstack(drs)\n",
    "            tfp = tfps\n",
    "            xs,hs,dlogps,drs,ys,tfps = [],[],[],[],[],[] # reset array memory\n",
    "\n",
    "            # compute the discounted reward backwards through time\n",
    "            discounted_episode_reward = discount_rewards(episode_reward)\n",
    "            # size the rewards to be unit normal (helps control the gradient estimator variance)\n",
    "            discounted_episode_reward -= np.mean(discounted_episode_reward)\n",
    "            discounted_episode_reward /= np.std(discounted_episode_reward)\n",
    "            \n",
    "            # Get the gradient for this episode, and save it in the gradBuffer\n",
    "            tGrad = sess.run(newGrads,feed_dict={observations: episode_x, input_y: episode_y, advantages: discounted_episode_reward})\n",
    "            for ix,grad in enumerate(tGrad):\n",
    "                gradBuffer[ix] += grad\n",
    "                \n",
    "            # If we have completed enough episodes, then update the policy network with our gradients.\n",
    "            if episode_number % batch_size == 0: \n",
    "                sess.run(updateGrads,feed_dict={W1Grad: gradBuffer[0],W2Grad:gradBuffer[1]})\n",
    "                for ix,grad in enumerate(gradBuffer):\n",
    "                    gradBuffer[ix] = grad * 0\n",
    "                \n",
    "                # Give a summary of how well our network is doing for each batch of episodes.\n",
    "                running_reward = reward_sum if running_reward is None else running_reward * 0.99 + reward_sum * 0.01\n",
    "                print('Average reward for episode %f.  Total average reward %f.' % (reward_sum/batch_size, running_reward/batch_size))\n",
    "                \n",
    "                if reward_sum/batch_size > 200: \n",
    "                    print(\"Task solved in\",episode_number,'episodes!')\n",
    "                    break\n",
    "                    \n",
    "                reward_sum = 0\n",
    "            \n",
    "            observation = env.reset()\n",
    "        \n",
    "print(episode_number,'Episodes completed.')"
   ]
  },
  {
   "cell_type": "markdown",
   "metadata": {},
   "source": [
    "As you can see, the network not only does much better than random actions, but achieves the goal of 200 points per episode, thus solving the task!"
   ]
  },
  {
   "cell_type": "code",
   "execution_count": null,
   "metadata": {
    "collapsed": true
   },
   "outputs": [],
   "source": []
  }
 ],
 "metadata": {
  "anaconda-cloud": {},
  "kernelspec": {
   "display_name": "Python [default]",
   "language": "python",
   "name": "python3"
  },
  "language_info": {
   "codemirror_mode": {
    "name": "ipython",
    "version": 3
   },
   "file_extension": ".py",
   "mimetype": "text/x-python",
   "name": "python",
   "nbconvert_exporter": "python",
   "pygments_lexer": "ipython3",
   "version": "3.5.2"
  }
 },
 "nbformat": 4,
 "nbformat_minor": 0
}
